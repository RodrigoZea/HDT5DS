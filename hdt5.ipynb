{
 "cells": [
  {
   "cell_type": "code",
   "execution_count": 1,
   "metadata": {},
   "outputs": [],
   "source": [
    "from nltk.sentiment.vader import SentimentIntensityAnalyzer\n",
    "from nltk import tokenize\n",
    "import pandas as pd"
   ]
  },
  {
   "cell_type": "markdown",
   "metadata": {},
   "source": [
    "# EJEMPLO DE SEBAS VADER JEJEJEJEJEJEJEJE"
   ]
  },
  {
   "cell_type": "code",
   "execution_count": 2,
   "metadata": {},
   "outputs": [],
   "source": [
    "sentences = [\n",
    "    \"VADER is smart, handsome, and funny.\",\n",
    "    \"Most automated sentiment analysis tools are shit.\"\n",
    "]"
   ]
  },
  {
   "cell_type": "code",
   "execution_count": 3,
   "metadata": {},
   "outputs": [],
   "source": [
    "sid = SentimentIntensityAnalyzer()"
   ]
  },
  {
   "cell_type": "code",
   "execution_count": 4,
   "metadata": {},
   "outputs": [
    {
     "name": "stdout",
     "output_type": "stream",
     "text": [
      "VADER is smart, handsome, and funny.\n",
      "compound: 0.8316, neg: 0.0, neu: 0.254, pos: 0.746, \n",
      "Most automated sentiment analysis tools are shit.\n",
      "compound: -0.5574, neg: 0.375, neu: 0.625, pos: 0.0, \n"
     ]
    }
   ],
   "source": [
    "for sentence in sentences:\n",
    "    print(sentence)\n",
    "    ss = sid.polarity_scores(sentence)\n",
    "    for k in sorted(ss):\n",
    "        print('{0}: {1}, '.format(k, ss[k]), end='')\n",
    "    print()"
   ]
  },
  {
   "cell_type": "code",
   "execution_count": 5,
   "metadata": {},
   "outputs": [
    {
     "name": "stdout",
     "output_type": "stream",
     "text": [
      "VADER: 0.0\n",
      "is: 0.0\n",
      "smart: 0.4019\n",
      ",: 0.0\n",
      "handsome: 0.4939\n",
      ",: 0.0\n",
      "and: 0.0\n",
      "funny: 0.4404\n",
      ".: 0.0\n",
      "Most: 0.0\n",
      "automated: 0.0\n",
      "sentiment: 0.0\n",
      "analysis: 0.0\n",
      "tools: 0.0\n",
      "are: 0.0\n",
      "shit: -0.5574\n",
      ".: 0.0\n"
     ]
    }
   ],
   "source": [
    "for sentence in sentences:\n",
    "    for word in tokenize.word_tokenize(sentence):\n",
    "        print(f'{word}: {sid.polarity_scores(word)[\"compound\"]}')"
   ]
  },
  {
   "cell_type": "markdown",
   "metadata": {},
   "source": [
    "### Lectura de datos"
   ]
  },
  {
   "cell_type": "code",
   "execution_count": 6,
   "metadata": {},
   "outputs": [],
   "source": [
    "datos = pd.read_csv(\"datos.csv\")"
   ]
  },
  {
   "cell_type": "code",
   "execution_count": 7,
   "metadata": {},
   "outputs": [],
   "source": [
    "valores = pd.Series([],dtype=pd.StringDtype()) "
   ]
  },
  {
   "cell_type": "code",
   "execution_count": 8,
   "metadata": {},
   "outputs": [],
   "source": [
    "datosIMP = datos[['name','reviews.text','reviews.title']]\n",
    "datosIMP = datosIMP.fillna(\"0\")"
   ]
  },
  {
   "cell_type": "code",
   "execution_count": 9,
   "metadata": {},
   "outputs": [
    {
     "data": {
      "text/html": [
       "<div>\n",
       "<style scoped>\n",
       "    .dataframe tbody tr th:only-of-type {\n",
       "        vertical-align: middle;\n",
       "    }\n",
       "\n",
       "    .dataframe tbody tr th {\n",
       "        vertical-align: top;\n",
       "    }\n",
       "\n",
       "    .dataframe thead th {\n",
       "        text-align: right;\n",
       "    }\n",
       "</style>\n",
       "<table border=\"1\" class=\"dataframe\">\n",
       "  <thead>\n",
       "    <tr style=\"text-align: right;\">\n",
       "      <th></th>\n",
       "      <th>name</th>\n",
       "      <th>reviews.text</th>\n",
       "      <th>reviews.title</th>\n",
       "    </tr>\n",
       "  </thead>\n",
       "  <tbody>\n",
       "    <tr>\n",
       "      <th>0</th>\n",
       "      <td>Pink Friday: Roman Reloaded Re-Up (w/dvd)</td>\n",
       "      <td>love album good hip hop side current pop soun...</td>\n",
       "      <td>Just Awesome</td>\n",
       "    </tr>\n",
       "    <tr>\n",
       "      <th>1</th>\n",
       "      <td>Lundberg Organic Cinnamon Toast Rice Cakes</td>\n",
       "      <td>good flavor review collected part promotion</td>\n",
       "      <td>Good</td>\n",
       "    </tr>\n",
       "    <tr>\n",
       "      <th>2</th>\n",
       "      <td>Lundberg Organic Cinnamon Toast Rice Cakes</td>\n",
       "      <td>good flavor</td>\n",
       "      <td>Good</td>\n",
       "    </tr>\n",
       "    <tr>\n",
       "      <th>3</th>\n",
       "      <td>K-Y Love Sensuality Pleasure Gel</td>\n",
       "      <td>read reviews looking buying one couples lubri...</td>\n",
       "      <td>Disappointed</td>\n",
       "    </tr>\n",
       "    <tr>\n",
       "      <th>4</th>\n",
       "      <td>K-Y Love Sensuality Pleasure Gel</td>\n",
       "      <td>husband bought gel us gel caused irritation f...</td>\n",
       "      <td>Irritation</td>\n",
       "    </tr>\n",
       "    <tr>\n",
       "      <th>...</th>\n",
       "      <td>...</td>\n",
       "      <td>...</td>\n",
       "      <td>...</td>\n",
       "    </tr>\n",
       "    <tr>\n",
       "      <th>71039</th>\n",
       "      <td>Opti-Free Puremoist Disinfecting Solution 10fl Oz</td>\n",
       "      <td>im dealing dry eyes sensitive products eye cli...</td>\n",
       "      <td>Solves the problem</td>\n",
       "    </tr>\n",
       "    <tr>\n",
       "      <th>71040</th>\n",
       "      <td>Opti-Free Puremoist Disinfecting Solution 10fl Oz</td>\n",
       "      <td>great stuff helps keep contacts moist day</td>\n",
       "      <td>Great stuff!</td>\n",
       "    </tr>\n",
       "    <tr>\n",
       "      <th>71041</th>\n",
       "      <td>Opti-Free Puremoist Disinfecting Solution 10fl Oz</td>\n",
       "      <td>right price</td>\n",
       "      <td>My review</td>\n",
       "    </tr>\n",
       "    <tr>\n",
       "      <th>71042</th>\n",
       "      <td>Bebe Au Lait174 Premium Muslin Nursing Scarf -...</td>\n",
       "      <td>pleased scarf arrived multiple reasons print ...</td>\n",
       "      <td>Wonderful Product</td>\n",
       "    </tr>\n",
       "    <tr>\n",
       "      <th>71043</th>\n",
       "      <td>Justin Bieber - Under The Mistletoe (vinyl)</td>\n",
       "      <td>excellent album makes holidays better gives ni...</td>\n",
       "      <td>Makes The Holidays Better</td>\n",
       "    </tr>\n",
       "  </tbody>\n",
       "</table>\n",
       "<p>71044 rows × 3 columns</p>\n",
       "</div>"
      ],
      "text/plain": [
       "                                                    name  \\\n",
       "0              Pink Friday: Roman Reloaded Re-Up (w/dvd)   \n",
       "1             Lundberg Organic Cinnamon Toast Rice Cakes   \n",
       "2             Lundberg Organic Cinnamon Toast Rice Cakes   \n",
       "3                       K-Y Love Sensuality Pleasure Gel   \n",
       "4                       K-Y Love Sensuality Pleasure Gel   \n",
       "...                                                  ...   \n",
       "71039  Opti-Free Puremoist Disinfecting Solution 10fl Oz   \n",
       "71040  Opti-Free Puremoist Disinfecting Solution 10fl Oz   \n",
       "71041  Opti-Free Puremoist Disinfecting Solution 10fl Oz   \n",
       "71042  Bebe Au Lait174 Premium Muslin Nursing Scarf -...   \n",
       "71043        Justin Bieber - Under The Mistletoe (vinyl)   \n",
       "\n",
       "                                            reviews.text  \\\n",
       "0       love album good hip hop side current pop soun...   \n",
       "1            good flavor review collected part promotion   \n",
       "2                                            good flavor   \n",
       "3       read reviews looking buying one couples lubri...   \n",
       "4       husband bought gel us gel caused irritation f...   \n",
       "...                                                  ...   \n",
       "71039  im dealing dry eyes sensitive products eye cli...   \n",
       "71040          great stuff helps keep contacts moist day   \n",
       "71041                                        right price   \n",
       "71042   pleased scarf arrived multiple reasons print ...   \n",
       "71043  excellent album makes holidays better gives ni...   \n",
       "\n",
       "                   reviews.title  \n",
       "0                   Just Awesome  \n",
       "1                           Good  \n",
       "2                           Good  \n",
       "3                   Disappointed  \n",
       "4                     Irritation  \n",
       "...                          ...  \n",
       "71039         Solves the problem  \n",
       "71040               Great stuff!  \n",
       "71041                  My review  \n",
       "71042          Wonderful Product  \n",
       "71043  Makes The Holidays Better  \n",
       "\n",
       "[71044 rows x 3 columns]"
      ]
     },
     "execution_count": 9,
     "metadata": {},
     "output_type": "execute_result"
    }
   ],
   "source": [
    "datosIMP"
   ]
  },
  {
   "cell_type": "code",
   "execution_count": 10,
   "metadata": {},
   "outputs": [],
   "source": [
    "sid = SentimentIntensityAnalyzer()"
   ]
  },
  {
   "cell_type": "code",
   "execution_count": 11,
   "metadata": {},
   "outputs": [],
   "source": [
    "for index, row in datosIMP.iterrows():\n",
    "    #print(index+1,row['reviews.text'])\n",
    "    ss = sid.polarity_scores(row['reviews.text'])\n",
    "    gb = ss['compound']\n",
    "    #print(index)\n",
    "    valores[index]=gb "
   ]
  },
  {
   "cell_type": "code",
   "execution_count": 12,
   "metadata": {},
   "outputs": [
    {
     "data": {
      "text/plain": [
       "0        0.6908\n",
       "1        0.4404\n",
       "2        0.4404\n",
       "3       -0.7305\n",
       "4       -0.4423\n",
       "          ...  \n",
       "71039   -0.2732\n",
       "71040    0.7717\n",
       "71041    0.0000\n",
       "71042    0.9790\n",
       "71043    0.9001\n",
       "Length: 71044, dtype: float64"
      ]
     },
     "execution_count": 12,
     "metadata": {},
     "output_type": "execute_result"
    }
   ],
   "source": [
    "valores"
   ]
  },
  {
   "cell_type": "code",
   "execution_count": 13,
   "metadata": {},
   "outputs": [
    {
     "data": {
      "text/html": [
       "<div>\n",
       "<style scoped>\n",
       "    .dataframe tbody tr th:only-of-type {\n",
       "        vertical-align: middle;\n",
       "    }\n",
       "\n",
       "    .dataframe tbody tr th {\n",
       "        vertical-align: top;\n",
       "    }\n",
       "\n",
       "    .dataframe thead th {\n",
       "        text-align: right;\n",
       "    }\n",
       "</style>\n",
       "<table border=\"1\" class=\"dataframe\">\n",
       "  <thead>\n",
       "    <tr style=\"text-align: right;\">\n",
       "      <th></th>\n",
       "      <th>name</th>\n",
       "      <th>reviews.text</th>\n",
       "      <th>Compound</th>\n",
       "      <th>reviews.title</th>\n",
       "    </tr>\n",
       "  </thead>\n",
       "  <tbody>\n",
       "    <tr>\n",
       "      <th>0</th>\n",
       "      <td>Pink Friday: Roman Reloaded Re-Up (w/dvd)</td>\n",
       "      <td>love album good hip hop side current pop soun...</td>\n",
       "      <td>0.6908</td>\n",
       "      <td>Just Awesome</td>\n",
       "    </tr>\n",
       "    <tr>\n",
       "      <th>1</th>\n",
       "      <td>Lundberg Organic Cinnamon Toast Rice Cakes</td>\n",
       "      <td>good flavor review collected part promotion</td>\n",
       "      <td>0.4404</td>\n",
       "      <td>Good</td>\n",
       "    </tr>\n",
       "    <tr>\n",
       "      <th>2</th>\n",
       "      <td>Lundberg Organic Cinnamon Toast Rice Cakes</td>\n",
       "      <td>good flavor</td>\n",
       "      <td>0.4404</td>\n",
       "      <td>Good</td>\n",
       "    </tr>\n",
       "    <tr>\n",
       "      <th>3</th>\n",
       "      <td>K-Y Love Sensuality Pleasure Gel</td>\n",
       "      <td>read reviews looking buying one couples lubri...</td>\n",
       "      <td>-0.7305</td>\n",
       "      <td>Disappointed</td>\n",
       "    </tr>\n",
       "    <tr>\n",
       "      <th>4</th>\n",
       "      <td>K-Y Love Sensuality Pleasure Gel</td>\n",
       "      <td>husband bought gel us gel caused irritation f...</td>\n",
       "      <td>-0.4423</td>\n",
       "      <td>Irritation</td>\n",
       "    </tr>\n",
       "  </tbody>\n",
       "</table>\n",
       "</div>"
      ],
      "text/plain": [
       "                                         name  \\\n",
       "0   Pink Friday: Roman Reloaded Re-Up (w/dvd)   \n",
       "1  Lundberg Organic Cinnamon Toast Rice Cakes   \n",
       "2  Lundberg Organic Cinnamon Toast Rice Cakes   \n",
       "3            K-Y Love Sensuality Pleasure Gel   \n",
       "4            K-Y Love Sensuality Pleasure Gel   \n",
       "\n",
       "                                        reviews.text  Compound reviews.title  \n",
       "0   love album good hip hop side current pop soun...    0.6908  Just Awesome  \n",
       "1        good flavor review collected part promotion    0.4404          Good  \n",
       "2                                        good flavor    0.4404          Good  \n",
       "3   read reviews looking buying one couples lubri...   -0.7305  Disappointed  \n",
       "4   husband bought gel us gel caused irritation f...   -0.4423    Irritation  "
      ]
     },
     "execution_count": 13,
     "metadata": {},
     "output_type": "execute_result"
    }
   ],
   "source": [
    "datosIMP.insert(2, \"Compound\", valores) \n",
    "datosIMP.head() "
   ]
  },
  {
   "cell_type": "code",
   "execution_count": 42,
   "metadata": {},
   "outputs": [
    {
     "name": "stderr",
     "output_type": "stream",
     "text": [
      "/home/gustavo/.local/lib/python3.6/site-packages/ipykernel_launcher.py:1: FutureWarning: Passing a negative integer is deprecated in version 1.0 and will not be supported in future version. Instead, use None to not limit the column width.\n",
      "  \"\"\"Entry point for launching an IPython kernel.\n"
     ]
    }
   ],
   "source": [
    "pd.set_option('display.max_colwidth', -1)"
   ]
  },
  {
   "cell_type": "markdown",
   "metadata": {},
   "source": [
    "# TOP 5 MEJORES PRODUCTOS"
   ]
  },
  {
   "cell_type": "code",
   "execution_count": 14,
   "metadata": {},
   "outputs": [
    {
     "data": {
      "text/html": [
       "<div>\n",
       "<style scoped>\n",
       "    .dataframe tbody tr th:only-of-type {\n",
       "        vertical-align: middle;\n",
       "    }\n",
       "\n",
       "    .dataframe tbody tr th {\n",
       "        vertical-align: top;\n",
       "    }\n",
       "\n",
       "    .dataframe thead th {\n",
       "        text-align: right;\n",
       "    }\n",
       "</style>\n",
       "<table border=\"1\" class=\"dataframe\">\n",
       "  <thead>\n",
       "    <tr style=\"text-align: right;\">\n",
       "      <th></th>\n",
       "      <th>name</th>\n",
       "      <th>reviews.text</th>\n",
       "      <th>Compound</th>\n",
       "      <th>reviews.title</th>\n",
       "    </tr>\n",
       "  </thead>\n",
       "  <tbody>\n",
       "    <tr>\n",
       "      <th>47659</th>\n",
       "      <td>Hard Day's Night (blu-Ray)</td>\n",
       "      <td>hard days night movie changed everything ever...</td>\n",
       "      <td>0.9989</td>\n",
       "      <td>TEN STARS for Criterion's Blu Ray (The opening...</td>\n",
       "    </tr>\n",
       "    <tr>\n",
       "      <th>68920</th>\n",
       "      <td>Storks (blu-Ray)</td>\n",
       "      <td>see warner brothers animation attempting can ...</td>\n",
       "      <td>0.9983</td>\n",
       "      <td>Funny if not Instantly Forgettable</td>\n",
       "    </tr>\n",
       "    <tr>\n",
       "      <th>35108</th>\n",
       "      <td>The Jungle Book (blu-Ray/dvd + Digital)</td>\n",
       "      <td>enjoyed watching bluraydvd combo jungle book ...</td>\n",
       "      <td>0.9982</td>\n",
       "      <td>Great Live Action Adaptation of this Classic Tale</td>\n",
       "    </tr>\n",
       "    <tr>\n",
       "      <th>23498</th>\n",
       "      <td>Godzilla 3d Includes Digital Copy Ultraviolet ...</td>\n",
       "      <td>loved loved love love loved itloved loved love...</td>\n",
       "      <td>0.9982</td>\n",
       "      <td>Loved it</td>\n",
       "    </tr>\n",
       "    <tr>\n",
       "      <th>54679</th>\n",
       "      <td>Olay Total Effects Daily Moisturizer, 7-In-1 A...</td>\n",
       "      <td>first review using olay total effects antiagi...</td>\n",
       "      <td>0.9980</td>\n",
       "      <td>Impressed!</td>\n",
       "    </tr>\n",
       "  </tbody>\n",
       "</table>\n",
       "</div>"
      ],
      "text/plain": [
       "                                                    name  \\\n",
       "47659                         Hard Day's Night (blu-Ray)   \n",
       "68920                                   Storks (blu-Ray)   \n",
       "35108            The Jungle Book (blu-Ray/dvd + Digital)   \n",
       "23498  Godzilla 3d Includes Digital Copy Ultraviolet ...   \n",
       "54679  Olay Total Effects Daily Moisturizer, 7-In-1 A...   \n",
       "\n",
       "                                            reviews.text  Compound  \\\n",
       "47659   hard days night movie changed everything ever...    0.9989   \n",
       "68920   see warner brothers animation attempting can ...    0.9983   \n",
       "35108   enjoyed watching bluraydvd combo jungle book ...    0.9982   \n",
       "23498  loved loved love love loved itloved loved love...    0.9982   \n",
       "54679   first review using olay total effects antiagi...    0.9980   \n",
       "\n",
       "                                           reviews.title  \n",
       "47659  TEN STARS for Criterion's Blu Ray (The opening...  \n",
       "68920                 Funny if not Instantly Forgettable  \n",
       "35108  Great Live Action Adaptation of this Classic Tale  \n",
       "23498                                           Loved it  \n",
       "54679                                         Impressed!  "
      ]
     },
     "execution_count": 14,
     "metadata": {},
     "output_type": "execute_result"
    }
   ],
   "source": [
    "datosIMPBEST = datosIMP.sort_values(by=['Compound'],ascending=False)\n",
    "datosIMPBEST = datosIMPBEST.drop_duplicates(subset='reviews.text', keep=\"last\")\n",
    "datosIMPBEST.head() "
   ]
  },
  {
   "cell_type": "markdown",
   "metadata": {},
   "source": [
    "# TOP 5 PEORES PRODUCTOS"
   ]
  },
  {
   "cell_type": "code",
   "execution_count": 15,
   "metadata": {},
   "outputs": [
    {
     "data": {
      "text/html": [
       "<div>\n",
       "<style scoped>\n",
       "    .dataframe tbody tr th:only-of-type {\n",
       "        vertical-align: middle;\n",
       "    }\n",
       "\n",
       "    .dataframe tbody tr th {\n",
       "        vertical-align: top;\n",
       "    }\n",
       "\n",
       "    .dataframe thead th {\n",
       "        text-align: right;\n",
       "    }\n",
       "</style>\n",
       "<table border=\"1\" class=\"dataframe\">\n",
       "  <thead>\n",
       "    <tr style=\"text-align: right;\">\n",
       "      <th></th>\n",
       "      <th>name</th>\n",
       "      <th>reviews.text</th>\n",
       "      <th>Compound</th>\n",
       "      <th>reviews.title</th>\n",
       "    </tr>\n",
       "  </thead>\n",
       "  <tbody>\n",
       "    <tr>\n",
       "      <th>5539</th>\n",
       "      <td>100:Complete First Season (blu-Ray)</td>\n",
       "      <td>post apocalyptic scifi offering many elements...</td>\n",
       "      <td>-0.9783</td>\n",
       "      <td>Post Apocalyptic Sci-Fi Series</td>\n",
       "    </tr>\n",
       "    <tr>\n",
       "      <th>62856</th>\n",
       "      <td>Independence Day Resurgence (4k/uhd + Blu-Ray ...</td>\n",
       "      <td>bad bad bad bad bad bad whywhywhy</td>\n",
       "      <td>-0.9682</td>\n",
       "      <td>No</td>\n",
       "    </tr>\n",
       "    <tr>\n",
       "      <th>70307</th>\n",
       "      <td>Kiss174 Everlasting French Nails-String Of Pearls</td>\n",
       "      <td>easy put u use lot glue itll pop sides glue me...</td>\n",
       "      <td>-0.9674</td>\n",
       "      <td>first timer</td>\n",
       "    </tr>\n",
       "    <tr>\n",
       "      <th>4640</th>\n",
       "      <td>The Resident Evil Collection 5 Discs (blu-Ray)</td>\n",
       "      <td>honestly knew terrible films bored needed some...</td>\n",
       "      <td>-0.9628</td>\n",
       "      <td>Don't Waste Your Time!</td>\n",
       "    </tr>\n",
       "    <tr>\n",
       "      <th>28784</th>\n",
       "      <td>Storkcraft Tuscany Glider and Ottoman, Beige C...</td>\n",
       "      <td>purchased glider use new baby arrives major d...</td>\n",
       "      <td>-0.9623</td>\n",
       "      <td>Major Disappointment / Poorly Made</td>\n",
       "    </tr>\n",
       "  </tbody>\n",
       "</table>\n",
       "</div>"
      ],
      "text/plain": [
       "                                                    name  \\\n",
       "5539                 100:Complete First Season (blu-Ray)   \n",
       "62856  Independence Day Resurgence (4k/uhd + Blu-Ray ...   \n",
       "70307  Kiss174 Everlasting French Nails-String Of Pearls   \n",
       "4640      The Resident Evil Collection 5 Discs (blu-Ray)   \n",
       "28784  Storkcraft Tuscany Glider and Ottoman, Beige C...   \n",
       "\n",
       "                                            reviews.text  Compound  \\\n",
       "5539    post apocalyptic scifi offering many elements...   -0.9783   \n",
       "62856                  bad bad bad bad bad bad whywhywhy   -0.9682   \n",
       "70307  easy put u use lot glue itll pop sides glue me...   -0.9674   \n",
       "4640   honestly knew terrible films bored needed some...   -0.9628   \n",
       "28784   purchased glider use new baby arrives major d...   -0.9623   \n",
       "\n",
       "                            reviews.title  \n",
       "5539       Post Apocalyptic Sci-Fi Series  \n",
       "62856                                  No  \n",
       "70307                         first timer  \n",
       "4640               Don't Waste Your Time!  \n",
       "28784  Major Disappointment / Poorly Made  "
      ]
     },
     "execution_count": 15,
     "metadata": {},
     "output_type": "execute_result"
    }
   ],
   "source": [
    "datosIMPWORST = datosIMP.sort_values(by=['Compound'])\n",
    "datosIMPWORST = datosIMPWORST.drop_duplicates(subset='reviews.text', keep=\"last\")\n",
    "datosIMPWORST.head() "
   ]
  },
  {
   "cell_type": "markdown",
   "metadata": {},
   "source": [
    "# Usuarios que dan la mayor cantidad de reviews a distintos productos"
   ]
  },
  {
   "cell_type": "code",
   "execution_count": 16,
   "metadata": {},
   "outputs": [
    {
     "name": "stderr",
     "output_type": "stream",
     "text": [
      "/home/gustavo/.local/lib/python3.6/site-packages/ipykernel_launcher.py:2: SettingWithCopyWarning: \n",
      "A value is trying to be set on a copy of a slice from a DataFrame.\n",
      "Try using .loc[row_indexer,col_indexer] = value instead\n",
      "\n",
      "See the caveats in the documentation: https://pandas.pydata.org/pandas-docs/stable/user_guide/indexing.html#returning-a-view-versus-a-copy\n",
      "  \n"
     ]
    },
    {
     "data": {
      "text/html": [
       "<div>\n",
       "<style scoped>\n",
       "    .dataframe tbody tr th:only-of-type {\n",
       "        vertical-align: middle;\n",
       "    }\n",
       "\n",
       "    .dataframe tbody tr th {\n",
       "        vertical-align: top;\n",
       "    }\n",
       "\n",
       "    .dataframe thead th {\n",
       "        text-align: right;\n",
       "    }\n",
       "</style>\n",
       "<table border=\"1\" class=\"dataframe\">\n",
       "  <thead>\n",
       "    <tr style=\"text-align: right;\">\n",
       "      <th></th>\n",
       "      <th>reviews.username</th>\n",
       "      <th>reviews.count</th>\n",
       "    </tr>\n",
       "  </thead>\n",
       "  <tbody>\n",
       "    <tr>\n",
       "      <th>51160</th>\n",
       "      <td>An anonymous customer</td>\n",
       "      <td>421.0</td>\n",
       "    </tr>\n",
       "    <tr>\n",
       "      <th>4155</th>\n",
       "      <td>Anonymous</td>\n",
       "      <td>113.0</td>\n",
       "    </tr>\n",
       "    <tr>\n",
       "      <th>48059</th>\n",
       "      <td>Mike</td>\n",
       "      <td>105.0</td>\n",
       "    </tr>\n",
       "    <tr>\n",
       "      <th>25752</th>\n",
       "      <td>Chris</td>\n",
       "      <td>88.0</td>\n",
       "    </tr>\n",
       "    <tr>\n",
       "      <th>17235</th>\n",
       "      <td>ByAmazon Customer</td>\n",
       "      <td>58.0</td>\n",
       "    </tr>\n",
       "  </tbody>\n",
       "</table>\n",
       "</div>"
      ],
      "text/plain": [
       "            reviews.username  reviews.count\n",
       "51160  An anonymous customer          421.0\n",
       "4155               Anonymous          113.0\n",
       "48059                   Mike          105.0\n",
       "25752                  Chris           88.0\n",
       "17235      ByAmazon Customer           58.0"
      ]
     },
     "execution_count": 16,
     "metadata": {},
     "output_type": "execute_result"
    }
   ],
   "source": [
    "datosUser = datos[['reviews.username']]\n",
    "datosUser['reviews.count'] = datosUser.groupby('reviews.username')['reviews.username'].transform('count')\n",
    "datosUser = datosUser.sort_values(by=['reviews.count'],ascending=False)\n",
    "datosUser = datosUser.drop_duplicates(subset='reviews.count', keep=\"last\")\n",
    "datosUser.head()"
   ]
  }
 ],
 "metadata": {
  "kernelspec": {
   "display_name": "Python 3",
   "language": "python",
   "name": "python3"
  },
  "language_info": {
   "codemirror_mode": {
    "name": "ipython",
    "version": 3
   },
   "file_extension": ".py",
   "mimetype": "text/x-python",
   "name": "python",
   "nbconvert_exporter": "python",
   "pygments_lexer": "ipython3",
   "version": "3.6.9"
  }
 },
 "nbformat": 4,
 "nbformat_minor": 4
}
